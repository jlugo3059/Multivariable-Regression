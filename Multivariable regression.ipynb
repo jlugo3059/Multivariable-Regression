{
 "cells": [
  {
   "cell_type": "markdown",
   "id": "1076eca8",
   "metadata": {},
   "source": [
    "# Introduction"
   ]
  },
  {
   "cell_type": "markdown",
   "id": "5dbf072f",
   "metadata": {},
   "source": [
    "The purpose of this project will be to create a multivariable regression using the accepted loan dataset found in Kaggle. The source of the data is linked in the READ.DM file on github and contains 1,048,575 observations and 145 variables. Disclosure the source dataset found on Kaggle is extremely large at about 1.6 GB. For the purpose of this project, I have removed about 109 redundant variables to reduce computational slowdowns on python. "
   ]
  },
  {
   "cell_type": "markdown",
   "id": "20ccf291",
   "metadata": {},
   "source": [
    "# Purpose"
   ]
  },
  {
   "cell_type": "markdown",
   "id": "0884a830",
   "metadata": {},
   "source": [
    "Lending Club the company who this data is derived from has collected a million observations of people who got accepted for loans. Considering their data, the main goal for this project will be to determine the most significant variables that cause interest rates to change among borrowers who got accepted for loans. Therefor, I will be using a multivariable regression with **int_rate** (a variable that shows the percent of interest in a loan) , as the target variable. "
   ]
  },
  {
   "cell_type": "markdown",
   "id": "7ccd749f",
   "metadata": {},
   "source": [
    "# Importing the data"
   ]
  },
  {
   "cell_type": "code",
   "execution_count": 1,
   "id": "fcf54b67",
   "metadata": {},
   "outputs": [],
   "source": [
    "import pandas as pd"
   ]
  },
  {
   "cell_type": "code",
   "execution_count": 2,
   "id": "e88fa2e7",
   "metadata": {},
   "outputs": [
    {
     "name": "stderr",
     "output_type": "stream",
     "text": [
      "C:\\Users\\Eduardo\\AppData\\Local\\Temp\\ipykernel_36764\\3746424693.py:1: DtypeWarning: Columns (0) have mixed types. Specify dtype option on import or set low_memory=False.\n",
      "  data=pd.read_csv('Loans.csv')\n"
     ]
    }
   ],
   "source": [
    "data=pd.read_csv('Loans.csv')"
   ]
  },
  {
   "cell_type": "markdown",
   "id": "e05eb311",
   "metadata": {},
   "source": [
    "# Data Exploration"
   ]
  },
  {
   "cell_type": "code",
   "execution_count": 3,
   "id": "57b4d85b",
   "metadata": {},
   "outputs": [
    {
     "data": {
      "text/html": [
       "<div>\n",
       "<style scoped>\n",
       "    .dataframe tbody tr th:only-of-type {\n",
       "        vertical-align: middle;\n",
       "    }\n",
       "\n",
       "    .dataframe tbody tr th {\n",
       "        vertical-align: top;\n",
       "    }\n",
       "\n",
       "    .dataframe thead th {\n",
       "        text-align: right;\n",
       "    }\n",
       "</style>\n",
       "<table border=\"1\" class=\"dataframe\">\n",
       "  <thead>\n",
       "    <tr style=\"text-align: right;\">\n",
       "      <th></th>\n",
       "      <th>id</th>\n",
       "      <th>loan_amnt</th>\n",
       "      <th>term</th>\n",
       "      <th>int_rate</th>\n",
       "      <th>installment</th>\n",
       "      <th>grade</th>\n",
       "      <th>emp_title</th>\n",
       "      <th>emp_length</th>\n",
       "      <th>home_ownership</th>\n",
       "      <th>annual_inc</th>\n",
       "      <th>...</th>\n",
       "      <th>Balance_To_limit</th>\n",
       "      <th>mort_acc</th>\n",
       "      <th>num_actv_bc_tl</th>\n",
       "      <th>employment_</th>\n",
       "      <th>pct_tl_nvr_dlq</th>\n",
       "      <th>pub_rec_bankruptcies</th>\n",
       "      <th>tax_liens</th>\n",
       "      <th>hardship_flag</th>\n",
       "      <th>disbursement_method</th>\n",
       "      <th>debt_settlement_flag</th>\n",
       "    </tr>\n",
       "  </thead>\n",
       "  <tbody>\n",
       "    <tr>\n",
       "      <th>0</th>\n",
       "      <td>68407277</td>\n",
       "      <td>3600.0</td>\n",
       "      <td>36.0</td>\n",
       "      <td>13.99</td>\n",
       "      <td>123.03</td>\n",
       "      <td>C</td>\n",
       "      <td>leadman</td>\n",
       "      <td>10.0</td>\n",
       "      <td>MORTGAGE</td>\n",
       "      <td>55000.0</td>\n",
       "      <td>...</td>\n",
       "      <td>37.2</td>\n",
       "      <td>1.0</td>\n",
       "      <td>2.0</td>\n",
       "      <td>4.0</td>\n",
       "      <td>76.9</td>\n",
       "      <td>0.0</td>\n",
       "      <td>0.0</td>\n",
       "      <td>N</td>\n",
       "      <td>Cash</td>\n",
       "      <td>N</td>\n",
       "    </tr>\n",
       "    <tr>\n",
       "      <th>1</th>\n",
       "      <td>68355089</td>\n",
       "      <td>24700.0</td>\n",
       "      <td>36.0</td>\n",
       "      <td>11.99</td>\n",
       "      <td>820.28</td>\n",
       "      <td>C</td>\n",
       "      <td>Engineer</td>\n",
       "      <td>10.0</td>\n",
       "      <td>MORTGAGE</td>\n",
       "      <td>65000.0</td>\n",
       "      <td>...</td>\n",
       "      <td>27.1</td>\n",
       "      <td>4.0</td>\n",
       "      <td>5.0</td>\n",
       "      <td>5.0</td>\n",
       "      <td>97.4</td>\n",
       "      <td>0.0</td>\n",
       "      <td>0.0</td>\n",
       "      <td>N</td>\n",
       "      <td>Cash</td>\n",
       "      <td>N</td>\n",
       "    </tr>\n",
       "    <tr>\n",
       "      <th>2</th>\n",
       "      <td>68341763</td>\n",
       "      <td>20000.0</td>\n",
       "      <td>60.0</td>\n",
       "      <td>10.78</td>\n",
       "      <td>432.66</td>\n",
       "      <td>B</td>\n",
       "      <td>truck driver</td>\n",
       "      <td>10.0</td>\n",
       "      <td>MORTGAGE</td>\n",
       "      <td>63000.0</td>\n",
       "      <td>...</td>\n",
       "      <td>55.9</td>\n",
       "      <td>5.0</td>\n",
       "      <td>2.0</td>\n",
       "      <td>3.0</td>\n",
       "      <td>100.0</td>\n",
       "      <td>0.0</td>\n",
       "      <td>0.0</td>\n",
       "      <td>N</td>\n",
       "      <td>Cash</td>\n",
       "      <td>N</td>\n",
       "    </tr>\n",
       "    <tr>\n",
       "      <th>3</th>\n",
       "      <td>66310712</td>\n",
       "      <td>35000.0</td>\n",
       "      <td>60.0</td>\n",
       "      <td>14.85</td>\n",
       "      <td>829.90</td>\n",
       "      <td>C</td>\n",
       "      <td>Information Systems Officer</td>\n",
       "      <td>10.0</td>\n",
       "      <td>MORTGAGE</td>\n",
       "      <td>110000.0</td>\n",
       "      <td>...</td>\n",
       "      <td>12.1</td>\n",
       "      <td>1.0</td>\n",
       "      <td>4.0</td>\n",
       "      <td>5.0</td>\n",
       "      <td>100.0</td>\n",
       "      <td>0.0</td>\n",
       "      <td>0.0</td>\n",
       "      <td>N</td>\n",
       "      <td>Cash</td>\n",
       "      <td>N</td>\n",
       "    </tr>\n",
       "    <tr>\n",
       "      <th>4</th>\n",
       "      <td>68476807</td>\n",
       "      <td>10400.0</td>\n",
       "      <td>60.0</td>\n",
       "      <td>22.45</td>\n",
       "      <td>289.91</td>\n",
       "      <td>F</td>\n",
       "      <td>Contract Specialist</td>\n",
       "      <td>3.0</td>\n",
       "      <td>MORTGAGE</td>\n",
       "      <td>104433.0</td>\n",
       "      <td>...</td>\n",
       "      <td>77.5</td>\n",
       "      <td>6.0</td>\n",
       "      <td>4.0</td>\n",
       "      <td>6.0</td>\n",
       "      <td>96.6</td>\n",
       "      <td>0.0</td>\n",
       "      <td>0.0</td>\n",
       "      <td>N</td>\n",
       "      <td>Cash</td>\n",
       "      <td>N</td>\n",
       "    </tr>\n",
       "  </tbody>\n",
       "</table>\n",
       "<p>5 rows × 37 columns</p>\n",
       "</div>"
      ],
      "text/plain": [
       "         id  loan_amnt  term  int_rate  installment grade  \\\n",
       "0  68407277     3600.0  36.0     13.99       123.03     C   \n",
       "1  68355089    24700.0  36.0     11.99       820.28     C   \n",
       "2  68341763    20000.0  60.0     10.78       432.66     B   \n",
       "3  66310712    35000.0  60.0     14.85       829.90     C   \n",
       "4  68476807    10400.0  60.0     22.45       289.91     F   \n",
       "\n",
       "                     emp_title  emp_length home_ownership  annual_inc  ...  \\\n",
       "0                      leadman        10.0       MORTGAGE     55000.0  ...   \n",
       "1                     Engineer        10.0       MORTGAGE     65000.0  ...   \n",
       "2                 truck driver        10.0       MORTGAGE     63000.0  ...   \n",
       "3  Information Systems Officer        10.0       MORTGAGE    110000.0  ...   \n",
       "4          Contract Specialist         3.0       MORTGAGE    104433.0  ...   \n",
       "\n",
       "  Balance_To_limit mort_acc num_actv_bc_tl employment_  pct_tl_nvr_dlq  \\\n",
       "0             37.2      1.0            2.0         4.0            76.9   \n",
       "1             27.1      4.0            5.0         5.0            97.4   \n",
       "2             55.9      5.0            2.0         3.0           100.0   \n",
       "3             12.1      1.0            4.0         5.0           100.0   \n",
       "4             77.5      6.0            4.0         6.0            96.6   \n",
       "\n",
       "   pub_rec_bankruptcies  tax_liens  hardship_flag  disbursement_method  \\\n",
       "0                   0.0        0.0              N                 Cash   \n",
       "1                   0.0        0.0              N                 Cash   \n",
       "2                   0.0        0.0              N                 Cash   \n",
       "3                   0.0        0.0              N                 Cash   \n",
       "4                   0.0        0.0              N                 Cash   \n",
       "\n",
       "   debt_settlement_flag  \n",
       "0                     N  \n",
       "1                     N  \n",
       "2                     N  \n",
       "3                     N  \n",
       "4                     N  \n",
       "\n",
       "[5 rows x 37 columns]"
      ]
     },
     "execution_count": 3,
     "metadata": {},
     "output_type": "execute_result"
    }
   ],
   "source": [
    "data.head()"
   ]
  },
  {
   "cell_type": "markdown",
   "id": "2e617186",
   "metadata": {},
   "source": [
    "------------"
   ]
  },
  {
   "cell_type": "markdown",
   "id": "161f6c8e",
   "metadata": {},
   "source": [
    "Using data.info() we can see that there are 1,048,575 observations and 37 variables in the dataset note that there are both numerical and categorical variables in the data."
   ]
  },
  {
   "cell_type": "code",
   "execution_count": 4,
   "id": "34f66ae1",
   "metadata": {},
   "outputs": [
    {
     "name": "stdout",
     "output_type": "stream",
     "text": [
      "<class 'pandas.core.frame.DataFrame'>\n",
      "RangeIndex: 1048575 entries, 0 to 1048574\n",
      "Data columns (total 37 columns):\n",
      " #   Column                Non-Null Count    Dtype  \n",
      "---  ------                --------------    -----  \n",
      " 0   id                    1048575 non-null  object \n",
      " 1   loan_amnt             1048563 non-null  float64\n",
      " 2   term                  1048563 non-null  float64\n",
      " 3   int_rate              1048563 non-null  float64\n",
      " 4   installment           1048563 non-null  float64\n",
      " 5   grade                 1048563 non-null  object \n",
      " 6   emp_title             975084 non-null   object \n",
      " 7   emp_length            978615 non-null   float64\n",
      " 8   home_ownership        1048563 non-null  object \n",
      " 9   annual_inc            1048563 non-null  float64\n",
      " 10  verification          1048563 non-null  object \n",
      " 11  purpose               1048563 non-null  object \n",
      " 12  title                 1036426 non-null  object \n",
      " 13  addr_state            1048563 non-null  object \n",
      " 14  dti                   1047707 non-null  float64\n",
      " 15  delinq_2yrs           1048563 non-null  float64\n",
      " 16  fico_score            1048563 non-null  float64\n",
      " 17  inq_last_6mths        1048563 non-null  float64\n",
      " 18  open_acc              1048563 non-null  float64\n",
      " 19  pub_rec               1048563 non-null  float64\n",
      " 20  total_acc             1048563 non-null  float64\n",
      " 21  application_type      1048563 non-null  object \n",
      " 22  acc_now_delinq        1048563 non-null  float64\n",
      " 23  tot_cur_bal           1048563 non-null  float64\n",
      " 24  total_rev_hi_lim      1048563 non-null  float64\n",
      " 25  Inquiries             648840 non-null   float64\n",
      " 26  Finance_Trades        648840 non-null   float64\n",
      " 27  Balance_To_limit      1036340 non-null  float64\n",
      " 28  mort_acc              1048563 non-null  float64\n",
      " 29  num_actv_bc_tl        1048563 non-null  float64\n",
      " 30  employment_           1048563 non-null  float64\n",
      " 31  pct_tl_nvr_dlq        1048561 non-null  float64\n",
      " 32  pub_rec_bankruptcies  1048563 non-null  float64\n",
      " 33  tax_liens             1048563 non-null  float64\n",
      " 34  hardship_flag         1048563 non-null  object \n",
      " 35  disbursement_method   1048563 non-null  object \n",
      " 36  debt_settlement_flag  1048563 non-null  object \n",
      "dtypes: float64(25), object(12)\n",
      "memory usage: 296.0+ MB\n"
     ]
    }
   ],
   "source": [
    "data.info()"
   ]
  },
  {
   "cell_type": "markdown",
   "id": "a234adcb",
   "metadata": {},
   "source": [
    "--------"
   ]
  },
  {
   "cell_type": "markdown",
   "id": "76ab5d55",
   "metadata": {},
   "source": [
    "Next, we want to check if null values exist in the data. Note that we want null values as a percentage value of all observations in a column. Considering the size of the dataset its better to know a percentage value  of null values rather than a vague null count."
   ]
  },
  {
   "cell_type": "code",
   "execution_count": 5,
   "id": "4e9de0d7",
   "metadata": {},
   "outputs": [
    {
     "name": "stdout",
     "output_type": "stream",
     "text": [
      "id                       0.000000\n",
      "loan_amnt                0.001144\n",
      "term                     0.001144\n",
      "int_rate                 0.001144\n",
      "installment              0.001144\n",
      "grade                    0.001144\n",
      "emp_title                7.008655\n",
      "emp_length               6.671912\n",
      "home_ownership           0.001144\n",
      "annual_inc               0.001144\n",
      "verification             0.001144\n",
      "purpose                  0.001144\n",
      "title                    1.158620\n",
      "addr_state               0.001144\n",
      "dti                      0.082779\n",
      "delinq_2yrs              0.001144\n",
      "fico_score               0.001144\n",
      "inq_last_6mths           0.001144\n",
      "open_acc                 0.001144\n",
      "pub_rec                  0.001144\n",
      "total_acc                0.001144\n",
      "application_type         0.001144\n",
      "acc_now_delinq           0.001144\n",
      "tot_cur_bal              0.001144\n",
      "total_rev_hi_lim         0.001144\n",
      "Inquiries               38.121737\n",
      "Finance_Trades          38.121737\n",
      "Balance_To_limit         1.166822\n",
      "mort_acc                 0.001144\n",
      "num_actv_bc_tl           0.001144\n",
      "employment_              0.001144\n",
      "pct_tl_nvr_dlq           0.001335\n",
      "pub_rec_bankruptcies     0.001144\n",
      "tax_liens                0.001144\n",
      "hardship_flag            0.001144\n",
      "disbursement_method      0.001144\n",
      "debt_settlement_flag     0.001144\n",
      "dtype: float64\n"
     ]
    }
   ],
   "source": [
    "# Check for null values in each column\n",
    "null_percentages = (data.isnull().sum() / len(data)) * 100\n",
    "\n",
    "print(null_percentages)"
   ]
  },
  {
   "cell_type": "markdown",
   "id": "dd2b66b4",
   "metadata": {},
   "source": [
    "---"
   ]
  },
  {
   "cell_type": "markdown",
   "id": "a1603981",
   "metadata": {},
   "source": [
    "Now lets explore our categorical values and find how many unique categories exist in each categorical variable. The results here show that the variable **id** and **emp_title** have an abnormaly large amount of unique categories. "
   ]
  },
  {
   "cell_type": "code",
   "execution_count": 6,
   "id": "049c1d05",
   "metadata": {},
   "outputs": [
    {
     "name": "stdout",
     "output_type": "stream",
     "text": [
      "id: 1048575 unique categories\n",
      "grade: 7 unique categories\n",
      "emp_title: 237261 unique categories\n",
      "home_ownership: 5 unique categories\n",
      "verification: 3 unique categories\n",
      "purpose: 14 unique categories\n",
      "title: 27 unique categories\n",
      "addr_state: 50 unique categories\n",
      "application_type: 2 unique categories\n",
      "hardship_flag: 2 unique categories\n",
      "disbursement_method: 2 unique categories\n",
      "debt_settlement_flag: 2 unique categories\n"
     ]
    }
   ],
   "source": [
    "#lets check the number of unique categories in our categorical variables\n",
    "for column in data.columns:\n",
    "    if data[column].dtype == 'object':  # if the column is categorical\n",
    "        num_unique_categories = data[column].nunique()\n",
    "        print(f'{column}: {num_unique_categories} unique categories')"
   ]
  },
  {
   "cell_type": "markdown",
   "id": "b42e1e87",
   "metadata": {},
   "source": [
    "# Data Cleaning"
   ]
  },
  {
   "cell_type": "markdown",
   "id": "13157827",
   "metadata": {},
   "source": [
    "Considering our previous findings, we need to drop both **id** and **emp_title** from the data. The reasoning behind this is because we’re going to create dummy variables for all the unique categories and it is impractical to create 237,261 dummy variables  for one categorical variable like **emp_title**.  "
   ]
  },
  {
   "cell_type": "code",
   "execution_count": 7,
   "id": "d19d2dc2",
   "metadata": {},
   "outputs": [],
   "source": [
    "#drops id and emp_title\n",
    "data = data.drop(columns='id')\n",
    "data = data.drop(columns='emp_title')"
   ]
  },
  {
   "cell_type": "markdown",
   "id": "493df1b0",
   "metadata": {},
   "source": [
    "---"
   ]
  },
  {
   "cell_type": "markdown",
   "id": "146fb43e",
   "metadata": {},
   "source": [
    "While were at it, we might as well remove all null values from our categorical values. Considering that we had relatively low percentages of null values in our categorical variables. "
   ]
  },
  {
   "cell_type": "code",
   "execution_count": 8,
   "id": "eca1b872",
   "metadata": {},
   "outputs": [],
   "source": [
    "# Removes rows/observations of null categorical variables\n",
    "categorical_columns = data.select_dtypes(include=['object']).columns\n",
    "data = data.dropna(subset=categorical_columns)"
   ]
  },
  {
   "cell_type": "markdown",
   "id": "6b935869",
   "metadata": {},
   "source": [
    "---"
   ]
  },
  {
   "cell_type": "markdown",
   "id": "fb382396",
   "metadata": {},
   "source": [
    "Now that our categorical variables are free from null values and have workable amounts of unique categories, we can now convert our categorical variables into dummy variables. We will create a new variable called **data_dummies** and store the data there. "
   ]
  },
  {
   "cell_type": "code",
   "execution_count": 9,
   "id": "b9705625",
   "metadata": {},
   "outputs": [],
   "source": [
    "#creates dummy variables \n",
    "data_dummies = pd.get_dummies(data, drop_first=True)"
   ]
  },
  {
   "cell_type": "markdown",
   "id": "af0671c8",
   "metadata": {},
   "source": [
    "---"
   ]
  },
  {
   "cell_type": "markdown",
   "id": "ddd0f33c",
   "metadata": {},
   "source": [
    "The following code now checks that our categorical variables have been converted correctly. All categorical variables will now be defined by the data type **uint8**."
   ]
  },
  {
   "cell_type": "code",
   "execution_count": 10,
   "id": "3ab9fa21",
   "metadata": {},
   "outputs": [
    {
     "data": {
      "text/plain": [
       "loan_amnt                        float64\n",
       "term                             float64\n",
       "int_rate                         float64\n",
       "installment                      float64\n",
       "emp_length                       float64\n",
       "                                  ...   \n",
       "addr_state_WY                      uint8\n",
       "application_type_Joint App         uint8\n",
       "hardship_flag_Y                    uint8\n",
       "disbursement_method_DirectPay      uint8\n",
       "debt_settlement_flag_Y             uint8\n",
       "Length: 129, dtype: object"
      ]
     },
     "execution_count": 10,
     "metadata": {},
     "output_type": "execute_result"
    }
   ],
   "source": [
    "#Checks that the dummy variables changed to uint8\n",
    "data_dummies.dtypes"
   ]
  },
  {
   "cell_type": "markdown",
   "id": "d6d6633f",
   "metadata": {},
   "source": [
    "---"
   ]
  },
  {
   "cell_type": "markdown",
   "id": "517fa386",
   "metadata": {},
   "source": [
    "Now that our categorical variables are clean , we can now focus on cleaning the numerical variables. The following code imputes integer variables with a columns mean.Note that were still storing the imputation in the data_dummies variable. "
   ]
  },
  {
   "cell_type": "code",
   "execution_count": 11,
   "id": "512c48ab",
   "metadata": {},
   "outputs": [],
   "source": [
    "#Imputes the mean for all integer variables with null values\n",
    "numerical_columns = data_dummies.select_dtypes(include=['int64', 'float64']).columns\n",
    "for column in numerical_columns:\n",
    "    data_dummies[column].fillna(data_dummies[column].mean(), inplace=True)"
   ]
  },
  {
   "cell_type": "markdown",
   "id": "81dcc06e",
   "metadata": {},
   "source": [
    "---"
   ]
  },
  {
   "cell_type": "markdown",
   "id": "ed11d00c",
   "metadata": {},
   "source": [
    "Lets now check that our dataset *data_dummies* is free from null values. "
   ]
  },
  {
   "cell_type": "code",
   "execution_count": 12,
   "id": "64963c93",
   "metadata": {},
   "outputs": [
    {
     "name": "stdout",
     "output_type": "stream",
     "text": [
      "loan_amnt                        0.0\n",
      "term                             0.0\n",
      "int_rate                         0.0\n",
      "installment                      0.0\n",
      "emp_length                       0.0\n",
      "                                ... \n",
      "addr_state_WY                    0.0\n",
      "application_type_Joint App       0.0\n",
      "hardship_flag_Y                  0.0\n",
      "disbursement_method_DirectPay    0.0\n",
      "debt_settlement_flag_Y           0.0\n",
      "Length: 129, dtype: float64\n"
     ]
    }
   ],
   "source": [
    "# Lets check again for Null values\n",
    "null_percentages = (data_dummies.isnull().sum() / len(data)) * 100\n",
    "\n",
    "print(null_percentages)"
   ]
  },
  {
   "cell_type": "markdown",
   "id": "d6c665bd",
   "metadata": {},
   "source": [
    "# Multicollinearity"
   ]
  },
  {
   "cell_type": "markdown",
   "id": "0e9962a0",
   "metadata": {},
   "source": [
    "Before starting our regression model, it is important to check for multicollinearity. Multicollinearity refers to a situation in which two or more explanatory variables in a regression model are highly linearly related. For that I will be using Variance Inflation Factor (VIF) note that if VIF is 1 then the variables are not correlated, similarly a value greater than 1 indicates that the variables are correlated. If VIF is very high (greater than 5 or 10), then the variables are highly correlated and we must consider dropping them one at a time. Usually this means we must drop the variable with the highest VIF value. "
   ]
  },
  {
   "cell_type": "code",
   "execution_count": 13,
   "id": "a70f4588",
   "metadata": {},
   "outputs": [
    {
     "name": "stdout",
     "output_type": "stream",
     "text": [
      "                Variable          VIF\n",
      "0              loan_amnt    49.559525\n",
      "1                   term     6.303748\n",
      "2               int_rate     2.488693\n",
      "3            installment    42.475684\n",
      "4             emp_length     1.065701\n",
      "5             annual_inc     1.079726\n",
      "6                    dti     1.095939\n",
      "7            delinq_2yrs     1.302126\n",
      "8             fico_score     2.095888\n",
      "9         inq_last_6mths     1.138594\n",
      "10              open_acc     3.708138\n",
      "11               pub_rec     9.058279\n",
      "12             total_acc     2.727462\n",
      "13        acc_now_delinq     1.017816\n",
      "14           tot_cur_bal     1.784751\n",
      "15      total_rev_hi_lim     1.734722\n",
      "16             Inquiries     1.082455\n",
      "17        Finance_Trades     1.096925\n",
      "18      Balance_To_limit     1.579951\n",
      "19              mort_acc     1.655026\n",
      "20        num_actv_bc_tl     3.349613\n",
      "21           employment_     4.378010\n",
      "22        pct_tl_nvr_dlq     1.449585\n",
      "23  pub_rec_bankruptcies     4.560269\n",
      "24             tax_liens     5.240377\n",
      "25              constant  1032.831393\n"
     ]
    }
   ],
   "source": [
    "from statsmodels.stats.outliers_influence import variance_inflation_factor\n",
    "\n",
    "# Select only the numeric columns\n",
    "numeric_columns = data_dummies.select_dtypes(include=['int64', 'float64'])\n",
    "\n",
    "# Add a constant column for the VIF calculation\n",
    "numeric_columns['constant'] = 1\n",
    "\n",
    "# Calculate the VIF for each column\n",
    "vif = pd.DataFrame()\n",
    "vif[\"Variable\"] = numeric_columns.columns\n",
    "vif[\"VIF\"] = [variance_inflation_factor(numeric_columns.values, i) for i in range(numeric_columns.shape[1])]\n",
    "\n",
    "print(vif)"
   ]
  },
  {
   "cell_type": "markdown",
   "id": "c4ac59b0",
   "metadata": {},
   "source": [
    "---"
   ]
  },
  {
   "cell_type": "markdown",
   "id": "5a442437",
   "metadata": {},
   "source": [
    "Since the variable **loan_amnt** had the highest variance we must drop it first and then check for VIF again."
   ]
  },
  {
   "cell_type": "code",
   "execution_count": 14,
   "id": "085b2218",
   "metadata": {},
   "outputs": [
    {
     "name": "stdout",
     "output_type": "stream",
     "text": [
      "                Variable         VIF\n",
      "0                   term    1.255736\n",
      "1               int_rate    1.635041\n",
      "2            installment    1.238938\n",
      "3             emp_length    1.065594\n",
      "4             annual_inc    1.079480\n",
      "5                    dti    1.095921\n",
      "6            delinq_2yrs    1.302126\n",
      "7             fico_score    2.095649\n",
      "8         inq_last_6mths    1.138587\n",
      "9               open_acc    3.707855\n",
      "10               pub_rec    9.058278\n",
      "11             total_acc    2.727007\n",
      "12        acc_now_delinq    1.017808\n",
      "13           tot_cur_bal    1.782417\n",
      "14      total_rev_hi_lim    1.729095\n",
      "15             Inquiries    1.082445\n",
      "16        Finance_Trades    1.096852\n",
      "17      Balance_To_limit    1.579605\n",
      "18              mort_acc    1.654743\n",
      "19        num_actv_bc_tl    3.349585\n",
      "20           employment_    4.377800\n",
      "21        pct_tl_nvr_dlq    1.449569\n",
      "22  pub_rec_bankruptcies    4.560004\n",
      "23             tax_liens    5.240351\n",
      "24              constant  998.036992\n"
     ]
    }
   ],
   "source": [
    "# Drop the 'loan_amnt' variable\n",
    "data_dummies = data_dummies.drop(columns='loan_amnt')\n",
    "\n",
    "# Recalculate the VIFs\n",
    "numeric_columns = data_dummies.select_dtypes(include=['int64', 'float64'])\n",
    "numeric_columns['constant'] = 1\n",
    "vif = pd.DataFrame()\n",
    "vif[\"Variable\"] = numeric_columns.columns\n",
    "vif[\"VIF\"] = [variance_inflation_factor(numeric_columns.values, i) for i in range(numeric_columns.shape[1])]\n",
    "print(vif)"
   ]
  },
  {
   "cell_type": "markdown",
   "id": "ba42cff5",
   "metadata": {},
   "source": [
    "___"
   ]
  },
  {
   "cell_type": "markdown",
   "id": "ec3afca5",
   "metadata": {},
   "source": [
    "Now we must drop the variable **pub_rec** and check that we have less than 5 VIF in our model."
   ]
  },
  {
   "cell_type": "code",
   "execution_count": 15,
   "id": "ff57d0e4",
   "metadata": {},
   "outputs": [
    {
     "name": "stdout",
     "output_type": "stream",
     "text": [
      "                Variable         VIF\n",
      "0                   term    1.255681\n",
      "1               int_rate    1.635038\n",
      "2            installment    1.238724\n",
      "3             emp_length    1.065127\n",
      "4             annual_inc    1.079479\n",
      "5                    dti    1.095851\n",
      "6            delinq_2yrs    1.300808\n",
      "7             fico_score    2.087770\n",
      "8         inq_last_6mths    1.138109\n",
      "9               open_acc    3.707684\n",
      "10             total_acc    2.726981\n",
      "11        acc_now_delinq    1.017806\n",
      "12           tot_cur_bal    1.782402\n",
      "13      total_rev_hi_lim    1.728688\n",
      "14             Inquiries    1.082442\n",
      "15        Finance_Trades    1.096844\n",
      "16      Balance_To_limit    1.577471\n",
      "17              mort_acc    1.654536\n",
      "18        num_actv_bc_tl    3.348861\n",
      "19           employment_    4.377417\n",
      "20        pct_tl_nvr_dlq    1.447637\n",
      "21  pub_rec_bankruptcies    1.126445\n",
      "22             tax_liens    1.008517\n",
      "23              constant  991.280023\n"
     ]
    }
   ],
   "source": [
    "# Drop the 'pub_rec' variable\n",
    "data_dummies = data_dummies.drop(columns='pub_rec')\n",
    "\n",
    "# Recalculate the VIFs\n",
    "numeric_columns = data_dummies.select_dtypes(include=['int64', 'float64'])\n",
    "numeric_columns['constant'] = 1\n",
    "vif = pd.DataFrame()\n",
    "vif[\"Variable\"] = numeric_columns.columns\n",
    "vif[\"VIF\"] = [variance_inflation_factor(numeric_columns.values, i) for i in range(numeric_columns.shape[1])]\n",
    "print(vif)"
   ]
  },
  {
   "cell_type": "markdown",
   "id": "e46ee629",
   "metadata": {},
   "source": [
    "# Feature Scaling"
   ]
  },
  {
   "cell_type": "markdown",
   "id": "74de0c8e",
   "metadata": {},
   "source": [
    "Since our VIF checked out okay we can now focus on feature scaling. Feature scaling is important because it can help the regression algorithm to converge more quickly and can also prevent certain features from dominating simply because they have a larger scale. The two most common forms of scaling are standardization and normalization. In order to know which form to use we must first check if our data has a Gaussian distribution if it does, we can use Standardization if not we must use Normalization."
   ]
  },
  {
   "cell_type": "code",
   "execution_count": 16,
   "id": "8141b015",
   "metadata": {},
   "outputs": [
    {
     "data": {
      "image/png": "[encoded data removed]",
      "text/plain": [
       "<Figure size 640x480 with 1 Axes>"
      ]
     },
     "metadata": {},
     "output_type": "display_data"
    }
   ],
   "source": [
    "import matplotlib.pyplot as plt\n",
    "\n",
    "# Lets check if our target variable is normally distributed\n",
    "plt.hist(data_dummies['int_rate'], bins=30)\n",
    "plt.show()"
   ]
  },
  {
   "cell_type": "markdown",
   "id": "eb58b36f",
   "metadata": {},
   "source": [
    "---"
   ]
  },
  {
   "cell_type": "markdown",
   "id": "c7b3ee56",
   "metadata": {},
   "source": [
    "\n",
    "The histogram tells us that the data is not normally distributed. Therefor me must use normalization to scale our data. Normalization (or min-max scaling) will rescale our numerical variables into features that will range from 0 to 1.\n",
    "\n",
    "Note that normalization must only occur with our numerical variables, therefor will first create a scaler object for normalization (*MinMaxScaler()*) and then we will isolate the numerical variables into a new variable called **numeric_columns**. After the numeric variables are isolated, we will then scale them using our scaler object. In the scaling process the scaled numeric variables will be assigned a new name **data_scaled**. Finally, we will update the **data_scaled** variable by converting the scaled numeric variables back into a dataframe."
   ]
  },
  {
   "cell_type": "code",
   "execution_count": 17,
   "id": "9e4cebc5",
   "metadata": {},
   "outputs": [],
   "source": [
    "from sklearn.preprocessing import MinMaxScaler\n",
    "\n",
    "# Create a scaler object\n",
    "scaler = MinMaxScaler()\n",
    "\n",
    "# Select only the numeric columns\n",
    "numeric_columns = data_dummies.select_dtypes(include=['int64', 'float64'])\n",
    "\n",
    "\n",
    "# Fit the scaler and transform the data\n",
    "data_scaled = scaler.fit_transform(numeric_columns)\n",
    "\n",
    "# Convert back to a dataframe\n",
    "data_scaled = pd.DataFrame(data_scaled, columns=numeric_columns.columns)"
   ]
  },
  {
   "cell_type": "markdown",
   "id": "99c4448b",
   "metadata": {},
   "source": [
    "---"
   ]
  },
  {
   "cell_type": "markdown",
   "id": "6756ca67",
   "metadata": {},
   "source": [
    "Having scaled the numeric variables we know must isolate our categorical variables into a new variable called **dummy_colums**"
   ]
  },
  {
   "cell_type": "code",
   "execution_count": null,
   "id": "6e35693f",
   "metadata": {},
   "outputs": [],
   "source": [
    "# Get the dummy variables from the original DataFrame\n",
    "dummy_columns = data_dummies.select_dtypes(include=['uint8'])"
   ]
  },
  {
   "cell_type": "markdown",
   "id": "288439d9",
   "metadata": {},
   "source": [
    "---"
   ]
  },
  {
   "cell_type": "markdown",
   "id": "18a706d4",
   "metadata": {},
   "source": [
    "Before we can combine our newly scaled numeric variables with our categorical data, we must first reset the indices. The reason for this is because, when we use pd.concat() to merge our scaled numeric and categorical variables , pandas will try to align the data based on indices. If the indices in **data_scaled** and **dummy_columns** don't match, we will get NaN values in the resulting DataFrame."
   ]
  },
  {
   "cell_type": "code",
   "execution_count": null,
   "id": "64b515e1",
   "metadata": {},
   "outputs": [],
   "source": [
    "# Reset the indices of both DataFrames\n",
    "data_scaled = data_scaled.reset_index(drop=True)\n",
    "dummy_columns = dummy_columns.reset_index(drop=True)\n",
    "\n",
    "# Combine the scaled DataFrame and the dummy variables\n",
    "data_scaled = pd.concat([data_scaled, dummy_columns], axis=1)"
   ]
  },
  {
   "cell_type": "markdown",
   "id": "08df8240",
   "metadata": {},
   "source": [
    "---"
   ]
  },
  {
   "cell_type": "markdown",
   "id": "3323ce0e",
   "metadata": {},
   "source": [
    "# Linear Regression"
   ]
  },
  {
   "cell_type": "markdown",
   "id": "e8f832b8",
   "metadata": {},
   "source": [
    "Now that our data is clean, scaled, and has been checked for variance, we can now start building the multivariable regression model. The following lines of code will split our data set into a training set of 85% and test set 15% and will store the values into 4 varialbles **X_train**, **X_test**, **y_train**, **y_test**."
   ]
  },
  {
   "cell_type": "code",
   "execution_count": 18,
   "id": "0d7e781c",
   "metadata": {},
   "outputs": [],
   "source": [
    "from sklearn.model_selection import train_test_split\n",
    "\n",
    "# Lets train the data \n",
    "X = data_scaled.drop('int_rate', axis=1)\n",
    "y = data_scaled['int_rate']\n",
    "\n",
    "X_train, X_test, y_train, y_test = train_test_split(X, y, test_size=0.15, random_state=42)\n"
   ]
  },
  {
   "cell_type": "markdown",
   "id": "972f0e14",
   "metadata": {},
   "source": [
    "Next we will create a model and fit our training data"
   ]
  },
  {
   "cell_type": "code",
   "execution_count": 19,
   "id": "e4baeb3e",
   "metadata": {},
   "outputs": [
    {
     "data": {
      "text/plain": [
       "LinearRegression()"
      ]
     },
     "execution_count": 19,
     "metadata": {},
     "output_type": "execute_result"
    }
   ],
   "source": [
    "from sklearn.linear_model import LinearRegression\n",
    "\n",
    "# Create a model object\n",
    "model = LinearRegression()\n",
    "\n",
    "# Train the model\n",
    "model.fit(X_train, y_train)"
   ]
  },
  {
   "cell_type": "markdown",
   "id": "becc07a7",
   "metadata": {},
   "source": [
    "Finally we will run the model "
   ]
  },
  {
   "cell_type": "code",
   "execution_count": 20,
   "id": "59c921d8",
   "metadata": {},
   "outputs": [
    {
     "name": "stdout",
     "output_type": "stream",
     "text": [
      "                            OLS Regression Results                            \n",
      "==============================================================================\n",
      "Dep. Variable:               int_rate   R-squared:                       0.917\n",
      "Model:                            OLS   Adj. R-squared:                  0.917\n",
      "Method:                 Least Squares   F-statistic:                 9.200e+04\n",
      "Date:                Sat, 10 Jun 2023   Prob (F-statistic):               0.00\n",
      "Time:                        21:57:17   Log-Likelihood:             1.5484e+06\n",
      "No. Observations:             1036426   AIC:                        -3.097e+06\n",
      "Df Residuals:                 1036300   BIC:                        -3.095e+06\n",
      "Df Model:                         125                                         \n",
      "Covariance Type:            nonrobust                                         \n",
      "=================================================================================================================\n",
      "                                                    coef    std err          t      P>|t|      [0.025      0.975]\n",
      "-----------------------------------------------------------------------------------------------------------------\n",
      "const                                             0.1216      0.013      9.265      0.000       0.096       0.147\n",
      "term                                              0.0083      0.000     61.726      0.000       0.008       0.009\n",
      "installment                                       0.0244      0.000     61.810      0.000       0.024       0.025\n",
      "emp_length                                        0.0001      0.000      0.971      0.332      -0.000       0.000\n",
      "annual_inc                                       -0.2549      0.046     -5.488      0.000      -0.346      -0.164\n",
      "dti                                               0.1019      0.004     26.315      0.000       0.094       0.109\n",
      "delinq_2yrs                                      -0.0090      0.004     -2.294      0.022      -0.017      -0.001\n",
      "fico_score                                       -0.0392      0.000    -87.386      0.000      -0.040      -0.038\n",
      "inq_last_6mths                                    0.0027      0.000      6.488      0.000       0.002       0.004\n",
      "open_acc                                          0.0338      0.002     20.324      0.000       0.031       0.037\n",
      "total_acc                                        -0.0713      0.001    -55.878      0.000      -0.074      -0.069\n",
      "acc_now_delinq                                   -0.1126      0.010    -11.130      0.000      -0.132      -0.093\n",
      "tot_cur_bal                                       0.0398      0.003     14.518      0.000       0.034       0.045\n",
      "total_rev_hi_lim                                 -0.4190      0.019    -21.775      0.000      -0.457      -0.381\n",
      "Inquiries                                         0.1404      0.002     76.920      0.000       0.137       0.144\n",
      "Finance_Trades                                    0.0202      0.002      9.671      0.000       0.016       0.024\n",
      "Balance_To_limit                                 -0.0157      0.001    -20.710      0.000      -0.017      -0.014\n",
      "mort_acc                                         -0.1786      0.004    -49.328      0.000      -0.186      -0.172\n",
      "num_actv_bc_tl                                    0.0082      0.002      4.367      0.000       0.005       0.012\n",
      "employment_                                      -0.0059      0.002     -2.868      0.004      -0.010      -0.002\n",
      "pct_tl_nvr_dlq                                   -0.0007      0.001     -1.059      0.289      -0.002       0.001\n",
      "pub_rec_bankruptcies                             -0.0121      0.002     -7.206      0.000      -0.015      -0.009\n",
      "tax_liens                                        -0.2853      0.011    -24.883      0.000      -0.308      -0.263\n",
      "grade_B                                           0.1245      0.000    728.318      0.000       0.124       0.125\n",
      "grade_C                                           0.2567      0.000   1351.147      0.000       0.256       0.257\n",
      "grade_D                                           0.4111      0.000   1780.542      0.000       0.411       0.412\n",
      "grade_E                                           0.5426      0.000   1839.422      0.000       0.542       0.543\n",
      "grade_F                                           0.7037      0.000   1532.256      0.000       0.703       0.705\n",
      "grade_G                                           0.8330      0.001   1124.000      0.000       0.832       0.834\n",
      "home_ownership_MORTGAGE                          -0.0352      0.004     -8.086      0.000      -0.044      -0.027\n",
      "home_ownership_NONE                              -0.0901      0.032     -2.846      0.004      -0.152      -0.028\n",
      "home_ownership_OWN                               -0.0323      0.004     -7.411      0.000      -0.041      -0.024\n",
      "home_ownership_RENT                              -0.0332      0.004     -7.620      0.000      -0.042      -0.025\n",
      "verification_Source Verified                      0.0006      0.000      4.599      0.000       0.000       0.001\n",
      "verification_Verified                             0.0031      0.000     21.070      0.000       0.003       0.003\n",
      "purpose_credit_card                              -0.0162      0.009     -1.839      0.066      -0.033       0.001\n",
      "purpose_debt_consolidation                       -0.0146      0.009     -1.698      0.089      -0.031       0.002\n",
      "purpose_educational                               0.0180      0.028      0.646      0.518      -0.037       0.073\n",
      "purpose_home_improvement                         -0.0210      0.009     -2.218      0.027      -0.040      -0.002\n",
      "purpose_house                                     0.0002      0.016      0.014      0.989      -0.031       0.032\n",
      "purpose_major_purchase                           -0.0242      0.011     -2.210      0.027      -0.046      -0.003\n",
      "purpose_medical                                  -0.0204      0.013     -1.574      0.115      -0.046       0.005\n",
      "purpose_moving                                   -0.0139      0.018     -0.776      0.438      -0.049       0.021\n",
      "purpose_other                                    -0.0064      0.009     -0.695      0.487      -0.024       0.012\n",
      "purpose_renewable_energy                          0.0082      0.033      0.253      0.800      -0.056       0.072\n",
      "purpose_small_business                           -0.0097      0.012     -0.785      0.432      -0.034       0.014\n",
      "purpose_vacation                                 -0.0165      0.016     -1.008      0.313      -0.049       0.016\n",
      "purpose_wedding                                   0.0061      0.019      0.315      0.753      -0.032       0.044\n",
      "title_Car financing                              -0.0106      0.012     -0.861      0.389      -0.035       0.014\n",
      "title_Credit Card/Auto Repair                    -0.1226      0.055     -2.223      0.026      -0.231      -0.014\n",
      "title_Credit card refinancing                    -0.0018      0.010     -0.184      0.854      -0.021       0.017\n",
      "title_Debt consolidation                          0.0010      0.009      0.108      0.914      -0.017       0.019\n",
      "title_DebtC                                      -0.0664      0.055     -1.205      0.228      -0.174       0.042\n",
      "title_Green loan                                 -0.0177      0.033     -0.540      0.589      -0.082       0.047\n",
      "title_Home buying                                -0.0057      0.017     -0.346      0.730      -0.038       0.027\n",
      "title_Home improvement                            0.0087      0.010      0.845      0.398      -0.011       0.029\n",
      "title_Learning and training                       0.0180      0.028      0.646      0.518      -0.037       0.073\n",
      "title_Major purchase                              0.0139      0.012      1.155      0.248      -0.010       0.038\n",
      "title_Medical expenses                            0.0144      0.014      1.068      0.286      -0.012       0.041\n",
      "title_Moving and relocation                       0.0084      0.018      0.462      0.644      -0.027       0.044\n",
      "title_New Baby and New House (CC Consolidate)     0.0550      0.055      0.998      0.318      -0.053       0.163\n",
      "title_Other                                       0.0026      0.010      0.261      0.794      -0.017       0.022\n",
      "title_Pay off Lowes Card                          0.0347      0.055      0.629      0.530      -0.073       0.143\n",
      "title_Paying off higher interest cards & auto     0.0395      0.055      0.717      0.473      -0.069       0.148\n",
      "title_Prescription Drug and Medical Costs         0.0564      0.055      1.023      0.306      -0.052       0.164\n",
      "title_SAVE                                        0.0347      0.055      0.629      0.529      -0.073       0.143\n",
      "title_Simple Loan Until Contract Is Completed    -0.0728      0.055     -1.321      0.187      -0.181       0.035\n",
      "title_Student Loan                               -0.0461      0.055     -0.835      0.404      -0.154       0.062\n",
      "title_Trying to come back to reality!            -0.0505      0.055     -0.916      0.360      -0.159       0.058\n",
      "title_Vacation                                    0.0127      0.017      0.770      0.441      -0.020       0.045\n",
      "title_considerate                                 0.0392      0.055      0.712      0.477      -0.069       0.147\n",
      "title_new day                                    -0.0088      0.055     -0.160      0.873      -0.117       0.099\n",
      "title_new kitchen for momma!                      0.0871      0.055      1.575      0.115      -0.021       0.195\n",
      "title_odymeds                                     0.0574      0.056      1.025      0.305      -0.052       0.167\n",
      "addr_state_AL                                     0.0036      0.001      2.977      0.003       0.001       0.006\n",
      "addr_state_AR                                     0.0022      0.001      1.689      0.091      -0.000       0.005\n",
      "addr_state_AZ                                     0.0020      0.001      1.676      0.094      -0.000       0.004\n",
      "addr_state_CA                                     0.0005      0.001      0.475      0.635      -0.002       0.003\n",
      "addr_state_CO                                     0.0021      0.001      1.758      0.079      -0.000       0.004\n",
      "addr_state_CT                                     0.0031      0.001      2.581      0.010       0.001       0.005\n",
      "addr_state_DC                                    -0.0011      0.002     -0.682      0.495      -0.004       0.002\n",
      "addr_state_DE                                     0.0018      0.001      1.229      0.219      -0.001       0.005\n",
      "addr_state_FL                                     0.0025      0.001      2.243      0.025       0.000       0.005\n",
      "addr_state_GA                                     0.0029      0.001      2.502      0.012       0.001       0.005\n",
      "addr_state_HI                                    -0.0002      0.001     -0.145      0.885      -0.003       0.002\n",
      "addr_state_ID                                     0.0169      0.002     10.381      0.000       0.014       0.020\n",
      "addr_state_IL                                     0.0018      0.001      1.536      0.125      -0.000       0.004\n",
      "addr_state_IN                                     0.0013      0.001      1.080      0.280      -0.001       0.004\n",
      "addr_state_KS                                     0.0006      0.001      0.501      0.616      -0.002       0.003\n",
      "addr_state_KY                                     0.0035      0.001      2.842      0.004       0.001       0.006\n",
      "addr_state_LA                                     0.0005      0.001      0.399      0.690      -0.002       0.003\n",
      "addr_state_MA                                     0.0011      0.001      0.979      0.327      -0.001       0.003\n",
      "addr_state_MD                                     0.0028      0.001      2.410      0.016       0.001       0.005\n",
      "addr_state_ME                                     0.0095      0.002      6.116      0.000       0.006       0.012\n",
      "addr_state_MI                                     0.0020      0.001      1.737      0.082      -0.000       0.004\n",
      "addr_state_MN                                     0.0017      0.001      1.407      0.160      -0.001       0.004\n",
      "addr_state_MO                                     0.0017      0.001      1.449      0.147      -0.001       0.004\n",
      "addr_state_MS                                     0.0033      0.001      2.514      0.012       0.001       0.006\n",
      "addr_state_MT                                     0.0023      0.002      1.552      0.121      -0.001       0.005\n",
      "addr_state_NC                                     0.0015      0.001      1.271      0.204      -0.001       0.004\n",
      "addr_state_ND                                     0.0075      0.002      4.527      0.000       0.004       0.011\n",
      "addr_state_NE                                     0.0060      0.001      4.273      0.000       0.003       0.009\n",
      "addr_state_NH                                     0.0005      0.001      0.385      0.700      -0.002       0.003\n",
      "addr_state_NJ                                     0.0017      0.001      1.494      0.135      -0.001       0.004\n",
      "addr_state_NM                                     0.0008      0.001      0.634      0.526      -0.002       0.003\n",
      "addr_state_NV                                     0.0017      0.001      1.442      0.149      -0.001       0.004\n",
      "addr_state_NY                                     0.0035      0.001      3.063      0.002       0.001       0.006\n",
      "addr_state_OH                                     0.0017      0.001      1.451      0.147      -0.001       0.004\n",
      "addr_state_OK                                     0.0032      0.001      2.550      0.011       0.001       0.006\n",
      "addr_state_OR                                     0.0026      0.001      2.122      0.034       0.000       0.005\n",
      "addr_state_PA                                     0.0014      0.001      1.222      0.222      -0.001       0.004\n",
      "addr_state_RI                                     0.0029      0.001      2.135      0.033       0.000       0.006\n",
      "addr_state_SC                                     0.0034      0.001      2.764      0.006       0.001       0.006\n",
      "addr_state_SD                                     0.0011      0.002      0.678      0.498      -0.002       0.004\n",
      "addr_state_TN                                     0.0032      0.001      2.692      0.007       0.001       0.006\n",
      "addr_state_TX                                     0.0019      0.001      1.701      0.089      -0.000       0.004\n",
      "addr_state_UT                                     0.0018      0.001      1.375      0.169      -0.001       0.004\n",
      "addr_state_VA                                     0.0017      0.001      1.503      0.133      -0.001       0.004\n",
      "addr_state_VT                                     0.0041      0.002      2.586      0.010       0.001       0.007\n",
      "addr_state_WA                                     0.0019      0.001      1.623      0.105      -0.000       0.004\n",
      "addr_state_WI                                     0.0016      0.001      1.348      0.178      -0.001       0.004\n",
      "addr_state_WV                                    -0.0006      0.001     -0.398      0.691      -0.003       0.002\n",
      "addr_state_WY                                     0.0015      0.002      0.938      0.348      -0.002       0.005\n",
      "application_type_Joint App                        0.0292      0.000    119.286      0.000       0.029       0.030\n",
      "hardship_flag_Y                                   0.0211      0.003      8.108      0.000       0.016       0.026\n",
      "disbursement_method_DirectPay                     0.0066      0.000     21.035      0.000       0.006       0.007\n",
      "debt_settlement_flag_Y                           -0.0144      0.000    -35.274      0.000      -0.015      -0.014\n",
      "==============================================================================\n",
      "Omnibus:                    86815.876   Durbin-Watson:                   1.648\n",
      "Prob(Omnibus):                  0.000   Jarque-Bera (JB):           311708.334\n",
      "Skew:                           0.387   Prob(JB):                         0.00\n",
      "Kurtosis:                       5.573   Cond. No.                     1.70e+17\n",
      "==============================================================================\n",
      "\n",
      "Notes:\n",
      "[1] Standard Errors assume that the covariance matrix of the errors is correctly specified.\n",
      "[2] The smallest eigenvalue is 1.53e-28. This might indicate that there are\n",
      "strong multicollinearity problems or that the design matrix is singular.\n"
     ]
    }
   ],
   "source": [
    "import statsmodels.api as sm\n",
    "\n",
    "# Separate the predictors (X) and the target variable (y)\n",
    "X = data_scaled.drop('int_rate', axis=1)\n",
    "y = data_scaled['int_rate']\n",
    "\n",
    "# Add a constant to the predictors\n",
    "X = sm.add_constant(X)\n",
    "\n",
    "# Fit the model\n",
    "model = sm.OLS(y, X)\n",
    "results = model.fit()\n",
    "\n",
    "# Print out the statistics\n",
    "print(results.summary())"
   ]
  },
  {
   "cell_type": "markdown",
   "id": "d27660a3",
   "metadata": {},
   "source": [
    "# Interpreting the model"
   ]
  },
  {
   "cell_type": "markdown",
   "id": "e7dbd08e",
   "metadata": {},
   "source": [
    "The following are some basic interpretations that can be made of the model. Similarly, all the variables displayed by the regression result are deemed to be significant at predicting interest rate. \n",
    "\n",
    "**Adjsuted R-squared**:approximately 91.7% of the variability in interest rate can be explained by the predictor variables shown in the regression results. \n",
    "\n",
    "**Numeric Coefficients** : Since our data was normalized we need to interpret the variables differently, below I attached examples on how you would interpret the numeric variable *term* if it was standaridized, normalized, and not scaled . \n",
    "\n",
    "*Term (Not Scaled)*:For each additional month in the term of the loan, the interest rate increases by 0.0083 percentage points on average, assuming all other factors remain constant.\n",
    "\n",
    "*term (Standardized)*: for each increase of one standard deviation in the term of the loan, the interest rate increases by 0.0083 standard deviations on average, assuming all other factors remain constant.\n",
    "\n",
    "*term (Normalized)*:if the length of the loan term goes from the shortest possible term to the longest possible term, the model predicts that the interest rate will increase by an amount equal to 0.83% of the total possible range of interest rates.\n",
    "\n",
    "**Categorical Coefficients**: For categorical variables we must compare the coefficient with the zero group. In this case for hardship_flag the zero group is hardship_flag_N.\n",
    "\n",
    "*Hardship_flag_Y (Not Scaled)*:the presence of economic hardship (hardship_flag_Y'= 1) is associated with an increase in interest rate by 0.0211 units compared to the absence of economic hardship (hardship_flag_Y' = 0)."
   ]
  },
  {
   "cell_type": "code",
   "execution_count": null,
   "id": "6e61a650",
   "metadata": {},
   "outputs": [],
   "source": []
  }
 ],
 "metadata": {
  "kernelspec": {
   "display_name": "Python 3 (ipykernel)",
   "language": "python",
   "name": "python3"
  },
  "language_info": {
   "codemirror_mode": {
    "name": "ipython",
    "version": 3
   },
   "file_extension": ".py",
   "mimetype": "text/x-python",
   "name": "python",
   "nbconvert_exporter": "python",
   "pygments_lexer": "ipython3",
   "version": "3.9.13"
  }
 },
 "nbformat": 4,
 "nbformat_minor": 5
}
